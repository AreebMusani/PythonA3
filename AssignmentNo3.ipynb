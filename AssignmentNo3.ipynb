{
 "cells": [
  {
   "cell_type": "code",
   "execution_count": 8,
   "id": "57ded1b9",
   "metadata": {},
   "outputs": [
    {
     "name": "stdout",
     "output_type": "stream",
     "text": [
      "Twinkle, twinkle, little star,\n",
      "    How I wonder what you are!\n",
      "        Up above the world so high,\n",
      "        Like a diamond in the sky.\n",
      "Twinkle, twinkle, little star,\n",
      "    How I wonder what you are\n"
     ]
    }
   ],
   "source": [
    "# 1. Write a Python program to print the following string in a specific format (see the output).\n",
    "\n",
    "# Twinkle, twinkle, little star,\n",
    "#     How I wonder what you are!  \n",
    "#         Up above the world so high, \n",
    "#         Like a diamond in the sky.  \n",
    "# Twinkle, twinkle, little star,  \n",
    "#     How I wonder what you are\n",
    "\n",
    "print(\"Twinkle, twinkle, little star,\");\n",
    "print(\"    How I wonder what you are!\");\n",
    "print(\"        Up above the world so high,\");\n",
    "print(\"        Like a diamond in the sky.\");\n",
    "print(\"Twinkle, twinkle, little star,\");\n",
    "print(\"    How I wonder what you are\");"
   ]
  },
  {
   "cell_type": "code",
   "execution_count": 11,
   "id": "50c7136c",
   "metadata": {},
   "outputs": [
    {
     "name": "stdout",
     "output_type": "stream",
     "text": [
      "Python version\n",
      "3.8.8 (default, Apr 13 2021, 15:08:03) [MSC v.1916 64 bit (AMD64)]\n"
     ]
    }
   ],
   "source": [
    "# 2. Write a Python program to get the Python version you are using\n",
    "\n",
    "import sys;\n",
    "\n",
    "print(\"Python version\");\n",
    "print (sys.version);"
   ]
  },
  {
   "cell_type": "code",
   "execution_count": 34,
   "id": "c1f2814d",
   "metadata": {},
   "outputs": [
    {
     "name": "stdout",
     "output_type": "stream",
     "text": [
      "Current date and time : \n",
      "2021-10-24 03:36:53\n"
     ]
    }
   ],
   "source": [
    "# 3. Write a Python program to display the current date and time.\n",
    " \n",
    "import datetime\n",
    "\n",
    "print (\"Current date and time : \")\n",
    "print(datetime.datetime.now().strftime(\"%Y-%m-%d %H:%M:%S\"))"
   ]
  },
  {
   "cell_type": "code",
   "execution_count": 45,
   "id": "d9b36136",
   "metadata": {},
   "outputs": [
    {
     "name": "stdout",
     "output_type": "stream",
     "text": [
      "Enter radius of the circle: 5\n",
      "Circle of given radius is 78.55 unit.\n"
     ]
    }
   ],
   "source": [
    "# 4. Write a Python program which accepts the radius of a circle from the user and compute the area. \n",
    "\n",
    "radius = input(\"Enter radius of the circle: \");\n",
    "\n",
    "circle = 3.142 * (float(radius) * float(radius));\n",
    "print(\"Circle of given radius is \" + str(circle) + \" unit.\");"
   ]
  },
  {
   "cell_type": "code",
   "execution_count": 46,
   "id": "02fce889",
   "metadata": {},
   "outputs": [
    {
     "name": "stdout",
     "output_type": "stream",
     "text": [
      "Enter first Name: Areeb\n",
      "Enter Last Name: Musani\n",
      "Welcome Areeb Musani\n"
     ]
    }
   ],
   "source": [
    "# 5. Write a Python program which accepts the user's first and last name and print them in \n",
    "# reverse order with a space between them.\n",
    "\n",
    "firstName = input(\"Enter first Name: \");\n",
    "lastName = input(\"Enter Last Name: \");\n",
    "\n",
    "print(\"Welcome \" + firstName + \" \" + lastName );"
   ]
  },
  {
   "cell_type": "code",
   "execution_count": 50,
   "id": "a5c7fe87",
   "metadata": {},
   "outputs": [
    {
     "name": "stdout",
     "output_type": "stream",
     "text": [
      "Enter first Number: 15\n",
      "Enter second Number: 25\n",
      "The addition of 15 and 25 is 40.0\n"
     ]
    }
   ],
   "source": [
    "# 6. Write a python program which takes two inputs from user and print them addition\n",
    "\n",
    "firstNumber = input(\"Enter first Number: \");\n",
    "secondNumber = input(\"Enter second Number: \");\n",
    "\n",
    "result = float(firstNumber) + float(secondNumber);\n",
    "\n",
    "print(\"The addition of \" + firstNumber + \" and \" + secondNumber + \" is \" + str(result));"
   ]
  },
  {
   "cell_type": "code",
   "execution_count": 60,
   "id": "c054cb92",
   "metadata": {},
   "outputs": [
    {
     "name": "stdout",
     "output_type": "stream",
     "text": [
      "Enter English marks: 75\n",
      "Enter Islamiat marks: 46\n",
      "Enter Maths marks: 39\n",
      "Enter Science marks: 55\n",
      "Enter Urdu marks: 46\n",
      "\n",
      "Percentage = 52.2\n",
      "Congratulations! You have secured C grade\n"
     ]
    }
   ],
   "source": [
    "# 7. Write a program which takes 5 inputs from user for different subject’s marks, total it \n",
    "# and generate mark sheet using grades ?\n",
    "\n",
    "totalMarks = 500;\n",
    "Eng = input(\"Enter English marks: \");\n",
    "Isl = input(\"Enter Islamiat marks: \");\n",
    "Maths = input(\"Enter Maths marks: \");\n",
    "Science = input(\"Enter Science marks: \");\n",
    "Urdu = input(\"Enter Urdu marks: \");\n",
    "\n",
    "ObtainedMarks = float(Eng) + float(Isl) + float(Maths) + float(Science) + float(Urdu);\n",
    "percentage = float(ObtainedMarks * 100 / totalMarks);\n",
    "\n",
    "print(\"\\nPercentage = \" + str(percentage));\n",
    "if percentage <= 100 and percentage >= 80:\n",
    "    print(\"Congratulations! You have secured A+ grade\");\n",
    "elif percentage < 80 and percentage >= 70:\n",
    "    print(\"Congratulations! You have secured A grade\");\n",
    "elif percentage < 70 and percentage >= 60:\n",
    "    print(\"Congratulations! You have secured B grade\");\n",
    "elif percentage < 60 and percentage >= 50:\n",
    "    print(\"Congratulations! You have secured C grade\");\n",
    "elif percentage < 50 and percentage >= 40:\n",
    "    print(\"Congratulations! You have secured D grade\");\n",
    "elif percentage < 40:\n",
    "    print(\"Grade F, Ops! you have Failed\");\n",
    "else:\n",
    "    print(\"Invalid Grade!\");"
   ]
  },
  {
   "cell_type": "code",
   "execution_count": 66,
   "id": "44b21947",
   "metadata": {},
   "outputs": [
    {
     "name": "stdout",
     "output_type": "stream",
     "text": [
      "Enter any integer number: 27\n",
      "27 is odd.\n"
     ]
    }
   ],
   "source": [
    "# 8. Write a program which take input from user and identify that the given number is even or odd?\n",
    "\n",
    "number = input(\"Enter any integer number: \");\n",
    "\n",
    "if(int(number) % 2 == 0):\n",
    "    print(number + \" is even.\");\n",
    "else:\n",
    "    print(number + \" is odd.\");        "
   ]
  },
  {
   "cell_type": "code",
   "execution_count": 68,
   "id": "28a82925",
   "metadata": {},
   "outputs": [
    {
     "name": "stdout",
     "output_type": "stream",
     "text": [
      "11\n"
     ]
    }
   ],
   "source": [
    "# 9. Write a program which print the length of the list?\n",
    "\n",
    "a = [1, 1, 2, 3, 5, 8, 13, 21, 34, 55, 89];\n",
    "\n",
    "print(len(a));"
   ]
  },
  {
   "cell_type": "code",
   "execution_count": 77,
   "id": "cfee3c20",
   "metadata": {},
   "outputs": [
    {
     "name": "stdout",
     "output_type": "stream",
     "text": [
      "Sum of all elements = 15\n"
     ]
    }
   ],
   "source": [
    "# 10. Write a Python program to sum all the numeric items in a list?\n",
    "\n",
    "sums = 0;\n",
    "a = [1, 2, 3, 4, 5];\n",
    "\n",
    "for i in a:\n",
    "    sums += i;\n",
    "print(\"Sum of all elements = \" + str(sums));"
   ]
  },
  {
   "cell_type": "code",
   "execution_count": 81,
   "id": "e46b117a",
   "metadata": {},
   "outputs": [
    {
     "name": "stdout",
     "output_type": "stream",
     "text": [
      "Largest number in given list is 95\n"
     ]
    }
   ],
   "source": [
    "# 11. Write a Python program to get the largest number from a numeric list.\n",
    "\n",
    "a = [1, 12, 2, 3, 5, 8, 95, 21, 34, 55, 89];\n",
    "\n",
    "largest = a[0];\n",
    "\n",
    "for i in a:\n",
    "    if i > largest:\n",
    "        largest = i;\n",
    "\n",
    "print(\"Largest number in given list is \" + str(largest));"
   ]
  },
  {
   "cell_type": "code",
   "execution_count": 86,
   "id": "f55cebf1",
   "metadata": {},
   "outputs": [
    {
     "name": "stdout",
     "output_type": "stream",
     "text": [
      "1\n",
      "1\n",
      "2\n",
      "3\n"
     ]
    }
   ],
   "source": [
    "# 12. Take a list, say for example this one:  \n",
    "# a = [1, 1, 2, 3, 5, 8, 13, 21, 34, 55, 89] \n",
    "#  Write a program that prints out all the elements of the list that are less than 5. \n",
    "\n",
    "a = [1, 1, 2, 3, 5, 8, 13, 21, 34, 55, 89];\n",
    "\n",
    "for i in a:\n",
    "    if i < 5:\n",
    "        print(i)"
   ]
  }
 ],
 "metadata": {
  "kernelspec": {
   "display_name": "Python 3",
   "language": "python",
   "name": "python3"
  },
  "language_info": {
   "codemirror_mode": {
    "name": "ipython",
    "version": 3
   },
   "file_extension": ".py",
   "mimetype": "text/x-python",
   "name": "python",
   "nbconvert_exporter": "python",
   "pygments_lexer": "ipython3",
   "version": "3.8.8"
  }
 },
 "nbformat": 4,
 "nbformat_minor": 5
}
