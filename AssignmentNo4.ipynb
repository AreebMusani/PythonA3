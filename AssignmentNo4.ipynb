{
 "cells": [
  {
   "cell_type": "code",
   "execution_count": 1,
   "id": "33dd2fa3",
   "metadata": {},
   "outputs": [
    {
     "name": "stdout",
     "output_type": "stream",
     "text": [
      "******************************\n",
      "\tSimple Calculator\n",
      "******************************\n",
      "\n",
      "Enter 1 for Addtion\n",
      "\n",
      "Enter 2 for Subtraction\n",
      "\n",
      "Enter 3 for Multiplication\n",
      "\n",
      "Enter 4 for Division\n",
      "\n",
      "Enter 5 for Power\n",
      "\n",
      "******************************\n",
      "\n",
      "\n",
      "Select option from above menu: 3\n",
      "Enter First Number: 25\n",
      "Enter Second Number: 5\n",
      "Multiplication of 25 and 5 is 125\n"
     ]
    }
   ],
   "source": [
    "#Make a calculator using Python with addition , subtraction , multiplication ,division and power.\n",
    "print(\"******************************\")\n",
    "print(\"\\tSimple Calculator\")\n",
    "print(\"******************************\\n\")\n",
    "print(\"Enter 1 for Addtion\\n\")\n",
    "print(\"Enter 2 for Subtraction\\n\")\n",
    "print(\"Enter 3 for Multiplication\\n\")\n",
    "print(\"Enter 4 for Division\\n\")\n",
    "print(\"Enter 5 for Power\\n\")\n",
    "print(\"******************************\\n\\n\")\n",
    "\n",
    "userOption = int(input(\"Select option from above menu: \"))\n",
    "if userOption == 1:\n",
    "    fname = int(input(\"Enter First Number: \"))\n",
    "    Sname = int(input(\"Enter Second Number: \"))\n",
    "    print(\"Addition of \" + str(fname) + \" and \" + str(Sname) + \" is \" + str(fname + Sname))\n",
    "elif userOption == 2:\n",
    "    fname = int(input(\"Enter First Number: \"))\n",
    "    Sname = int(input(\"Enter Second Number: \"))\n",
    "    print(\"Subtraction of \" + str(fname) + \" and \" + str(Sname) + \" is \" + str(fname - Sname))\n",
    "elif userOption == 3:\n",
    "    fname = int(input(\"Enter First Number: \"))\n",
    "    Sname = int(input(\"Enter Second Number: \"))\n",
    "    print(\"Multiplication of \" + str(fname) + \" and \" + str(Sname) + \" is \" + str(fname * Sname))\n",
    "elif userOption == 4:\n",
    "    fname = int(input(\"Enter First Number: \"))\n",
    "    Sname = int(input(\"Enter Second Number: \"))\n",
    "    print(\"Division of \" + str(fname) + \" and \" + str(Sname) + \" is \" + str(fname / Sname))\n",
    "elif userOption == 5:\n",
    "    fname = int(input(\"Enter a Number: \"))\n",
    "    Sname = int(input(\"Enter power of \" + str(fname) + \": \"))\n",
    "    print(\"Power of \" + str(fname) + \" and \" + str(Sname) + \" is \" + str(fname ** Sname))\n",
    "else:\n",
    "    print(\"Invalid Option\")"
   ]
  },
  {
   "cell_type": "code",
   "execution_count": 5,
   "id": "8a8af606",
   "metadata": {},
   "outputs": [
    {
     "name": "stdout",
     "output_type": "stream",
     "text": [
      "0\n",
      "2\n",
      "8\n"
     ]
    }
   ],
   "source": [
    "#Write a program to check if there is any numeric value in list using for loop.\n",
    "myList = [0, \"Hello\", 2, \"World\", 8 ]\n",
    "for i in myList:\n",
    "    if(type(i) == int):\n",
    "        print(i)"
   ]
  },
  {
   "cell_type": "code",
   "execution_count": 10,
   "id": "02dcb906",
   "metadata": {},
   "outputs": [
    {
     "name": "stdout",
     "output_type": "stream",
     "text": [
      "{'uid': 1, 'name': 'Muhammad Areeb', 'contactNo': 923162240727, 'age': 20}\n",
      "{'uid': 1, 'name': 'Muhammad Areeb', 'contactNo': 923162240727, 'age': 20, 'Address': 'Garden West, karachi'}\n"
     ]
    }
   ],
   "source": [
    "#Write a Python script to add a key to a dictionary.\n",
    "userDetails = {\n",
    "    \"uid\": 1,\n",
    "    \"name\": \"Muhammad Areeb\",\n",
    "    \"contactNo\": 923162240727,\n",
    "    \"age\": 20\n",
    "}\n",
    "print(userDetails)\n",
    "userDetails[\"Address\"] = \"Garden West, karachi\"\n",
    "print(userDetails)"
   ]
  },
  {
   "cell_type": "code",
   "execution_count": 14,
   "id": "b40ed371",
   "metadata": {},
   "outputs": [
    {
     "name": "stdout",
     "output_type": "stream",
     "text": [
      "Sum of all items in dictionary is 60\n"
     ]
    }
   ],
   "source": [
    "#Write a Python program to sum all the numeric items in a dictionary.\n",
    "scores = {\n",
    "    \"Areeb\": 10,\n",
    "    \"Ahmed\": 15,\n",
    "    \"Hassan\": 15,\n",
    "    \"umer\": 20,\n",
    "}\n",
    "sum = 0\n",
    "for key, values in scores.items():\n",
    "    sum += values\n",
    "print(\"Sum of all items in dictionary is \" + str(sum))"
   ]
  },
  {
   "cell_type": "code",
   "execution_count": 18,
   "id": "829c30f6",
   "metadata": {},
   "outputs": [
    {
     "name": "stdout",
     "output_type": "stream",
     "text": [
      "[0, 'Hello', 2]\n"
     ]
    }
   ],
   "source": [
    "#Write a program to identify duplicate values from list.\n",
    "myList = [0, \"Hello\", 2, \"World\", 8, \"Hello\", 6, 0 ,2  ]\n",
    "duplicateValues = []\n",
    "for i in myList:\n",
    "    if myList.count(i) > 1 and i not in duplicateValues:\n",
    "        duplicateValues.append(i)\n",
    "print(duplicateValues)"
   ]
  },
  {
   "cell_type": "code",
   "execution_count": 23,
   "id": "b7fb2d06",
   "metadata": {},
   "outputs": [
    {
     "name": "stdout",
     "output_type": "stream",
     "text": [
      "Enter a key to search in dictionary: umer\n",
      "present and the value is 20\n"
     ]
    }
   ],
   "source": [
    "#Write a Python script to check if a given key already exists in a dictionary\n",
    "scores = {\n",
    "    \"Areeb\": 10,\n",
    "    \"Ahmed\": 15,\n",
    "    \"Hassan\": 15,\n",
    "    \"umer\": 20,\n",
    "}\n",
    "\n",
    "key = input(\"Enter a key to search in dictionary: \")\n",
    "if key in scores:\n",
    "    print(\"present and the value is \" + str(scores[key]))\n",
    "else:\n",
    "    print(key + \" not present.\")\n"
   ]
  },
  {
   "cell_type": "code",
   "execution_count": null,
   "id": "34de24e9",
   "metadata": {},
   "outputs": [],
   "source": []
  }
 ],
 "metadata": {
  "kernelspec": {
   "display_name": "Python 3",
   "language": "python",
   "name": "python3"
  },
  "language_info": {
   "codemirror_mode": {
    "name": "ipython",
    "version": 3
   },
   "file_extension": ".py",
   "mimetype": "text/x-python",
   "name": "python",
   "nbconvert_exporter": "python",
   "pygments_lexer": "ipython3",
   "version": "3.8.8"
  }
 },
 "nbformat": 4,
 "nbformat_minor": 5
}
